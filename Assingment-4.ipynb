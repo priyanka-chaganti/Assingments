{
 "cells": [
  {
   "cell_type": "markdown",
   "metadata": {},
   "source": [
    "1.1 Write a Python Program(with class concepts) to find the area of the triangle using the below\n",
    "formula.\n",
    "area = (s*(s-a)*(s-b)*(s-c)) ** 0.5\n",
    "Function to take the length of the sides of triangle from user should be defined in the parent\n",
    "class and function to calculate the area should be defined in subclass."
   ]
  },
  {
   "cell_type": "code",
   "execution_count": 1,
   "metadata": {},
   "outputs": [
    {
     "data": {
      "text/plain": [
       "4.898979485566356"
      ]
     },
     "execution_count": 1,
     "metadata": {},
     "output_type": "execute_result"
    }
   ],
   "source": [
    "class InputLength:\n",
    "    def __init__(self, side_1, side_2, side_3):\n",
    "        self.side_1 = side_1\n",
    "        self.side_2 = side_2\n",
    "        self.side_3 = side_3\n",
    "        \n",
    "class Area(InputLength):\n",
    "    def __init__(self, side_1, side_2, side_3):\n",
    "        InputLength.__init__(self, side_1, side_2, side_3)\n",
    "    \n",
    "    def calculate_area(self):\n",
    "        s = self.side_1 + self.side_2 + self.side_3 / 3\n",
    "        area = (s*(s-self.side_1)*(s-self.side_2)*(s-self.side_3)) ** 0.5\n",
    "        return area\n",
    "\n",
    "obj = Area(1, 2, 3)\n",
    "obj.calculate_area()"
   ]
  },
  {
   "cell_type": "markdown",
   "metadata": {},
   "source": [
    "1.2 Write a function filter_long_words() that takes a list of words and an integer n and returns\n",
    "the list of words that are longer than n."
   ]
  },
  {
   "cell_type": "code",
   "execution_count": 2,
   "metadata": {},
   "outputs": [
    {
     "data": {
      "text/plain": [
       "['Alpha', 'Gamma', 'Delta']"
      ]
     },
     "execution_count": 2,
     "metadata": {},
     "output_type": "execute_result"
    }
   ],
   "source": [
    "def filter_long_words(n,words_list):\n",
    "    filtered_words = []\n",
    "    for word in words_list:\n",
    "        if len(word) > n:\n",
    "            filtered_words.append(word)\n",
    "    return filtered_words\n",
    "filter_long_words(4,['Alpha','Beta','Gamma','Delta'])"
   ]
  },
  {
   "cell_type": "markdown",
   "metadata": {},
   "source": [
    "2.1 Write a Python program using function concept that maps list of words into a list of integers\n",
    "representing the lengths of the corresponding words.\n",
    "Hint: If a list [ ab,cde,erty] is passed on to the python function output should come as [2,3,4]\n",
    "Here 2,3 and 4 are the lengths of the words in the list."
   ]
  },
  {
   "cell_type": "code",
   "execution_count": 3,
   "metadata": {},
   "outputs": [
    {
     "data": {
      "text/plain": [
       "[5, 4, 5, 5]"
      ]
     },
     "execution_count": 3,
     "metadata": {},
     "output_type": "execute_result"
    }
   ],
   "source": [
    "def map_lengths_of_words(words_list):\n",
    "    length_of_words = []\n",
    "    for word in words_list:\n",
    "        length_of_words.append(len(word))\n",
    "    return length_of_words\n",
    "map_lengths_of_words(['Alpha','Beta','Gamma','Delta'])"
   ]
  },
  {
   "cell_type": "markdown",
   "metadata": {},
   "source": [
    "2.2 Write a Python function which takes a character (i.e. a string of length 1) and returns True if\n",
    "it is a vowel, False otherwise."
   ]
  },
  {
   "cell_type": "code",
   "execution_count": 4,
   "metadata": {},
   "outputs": [
    {
     "data": {
      "text/plain": [
       "True"
      ]
     },
     "execution_count": 4,
     "metadata": {},
     "output_type": "execute_result"
    }
   ],
   "source": [
    "def check_if_vowel(character):\n",
    "    vowels = ['a','e','i','o','u','A','E','I','O','U']\n",
    "    if character in vowels:\n",
    "        return True\n",
    "    return False\n",
    "check_if_vowel('a')"
   ]
  }
 ],
 "metadata": {
  "kernelspec": {
   "display_name": "Python 3",
   "language": "python",
   "name": "python3"
  },
  "language_info": {
   "codemirror_mode": {
    "name": "ipython",
    "version": 3
   },
   "file_extension": ".py",
   "mimetype": "text/x-python",
   "name": "python",
   "nbconvert_exporter": "python",
   "pygments_lexer": "ipython3",
   "version": "3.7.6"
  }
 },
 "nbformat": 4,
 "nbformat_minor": 4
}
